{
 "cells": [
  {
   "cell_type": "markdown",
   "metadata": {},
   "source": [
    "# with updated lodes data"
   ]
  },
  {
   "cell_type": "code",
   "execution_count": 11,
   "metadata": {},
   "outputs": [],
   "source": [
    "import pandas as pd\n",
    "import geopandas as gpd\n",
    "import json\n",
    "import requests\n",
    "import numpy as np\n",
    "from shapely.geometry import Point"
   ]
  },
  {
   "cell_type": "code",
   "execution_count": 12,
   "metadata": {},
   "outputs": [],
   "source": [
    "# def traveltimeTransit(latHome, lonHome,latWork,lonWork, time)->int:\n",
    "#     request= \"http://localhost:8080/otp/routers/default/plan?fromPlace=\"+str(latHome)\\\n",
    "#     + \",\"+str(lonHome)+\"&toPlace=\"+str(latWork) + \",\"+str(lonWork)+ \"&\"+\"&mode=WALK,TRANSIT&date=05-04-2022&time=\"\\\n",
    "#     +time+\"&maxWalkDistance=750\" # chaneg distance \n",
    "#     r = requests.get(request)\n",
    "#     data=r.json()\n",
    "#     if 'plan' in data.keys() and 'itineraries' in data['plan'].keys():\n",
    "#         return (data['plan']['itineraries'])\n",
    "#     else:\n",
    "#         return np.nan"
   ]
  },
  {
   "cell_type": "code",
   "execution_count": 13,
   "metadata": {},
   "outputs": [],
   "source": [
    "# http://localhost:8080/otp/routers/default/plan?fromPlace=str(latHome),str(lonHome)&toPlace=str(latWork),&+&mode=WALK,TRANSIT&date=05-04-2022&time=10:00am&maxWalkDistance=750"
   ]
  },
  {
   "cell_type": "code",
   "execution_count": 23,
   "metadata": {},
   "outputs": [],
   "source": [
    "def traveltimeTransit2(df, i, latHome, lonHome,latWork,lonWork, time)->int:\n",
    "    walk_distance = 10000\n",
    "    request= \"http://localhost:8080/otp/routers/default/plan?fromPlace=\"+str(latHome)\\\n",
    "    + \",\"+str(lonHome)+\"&toPlace=\"+str(latWork) + \",\"+str(lonWork)+ \"&\"+\"&mode=WALK,TRANSIT&date=05-04-2022&time=\"\\\n",
    "    +time+\"&maxWalkDistance=\"+str(walk_distance)\n",
    "    # print(request)\n",
    "    r = requests.get(request)\n",
    "    data=r.json()\n",
    " \n",
    "    if 'plan' in data.keys() and 'itineraries' in data['plan'].keys():\n",
    "        df.loc[i, 'transit_time'] = int(data['plan']['itineraries'][0]['duration'])\n",
    "        df.loc[i, 'transfers'] = int(data['plan']['itineraries'][0]['transfers'])\n",
    "        legs = pd.DataFrame(data['plan']['itineraries'][0]['legs'])\n",
    "        # df.loc[i, 'trips'] = np.array(legs['tripId'].dropna().to_list())\n",
    "        # df.loc[i, 'trips'] = df.apply(lambda r: tuple(legs['tripId'].dropna()), axis=1).apply(np.array)\n",
    "        try:\n",
    "            df.loc[i, 'trip1'] = legs['tripId'].dropna().iloc[0].split(':')[1]\n",
    "        except:pass\n",
    "        try:\n",
    "            df.loc[i, 'trip2'] = legs['tripId'].dropna().iloc[0].split(':')[1]\n",
    "        except:pass\n",
    "        try:\n",
    "            df.loc[i, 'trip3'] = legs['tripId'].dropna().iloc[0].split(':')[2]\n",
    "        except:pass\n",
    "        try:\n",
    "            df.loc[i, 'route1'] = legs.route[legs.route != ''].iloc[0]\n",
    "        except:pass\n",
    "        try:\n",
    "            df.loc[i, 'route2'] = legs.route[legs.route != ''].iloc[1]\n",
    "        except:pass\n",
    "        try:\n",
    "            df.loc[i, 'route3'] = legs.route[legs.route != ''].iloc[2]\n",
    "        except:pass\n",
    "        df.loc[i, 'bus_capacity_upto_2hours'] = len(data['plan']['itineraries'])*30\n",
    "\n",
    "        \n",
    "    else:\n",
    "        df.loc[i, 'transit_time'] =  np.nan\n",
    "        df.loc[i, 'transfers'] = np.nan\n",
    "        # df.loc[i, 'trips'] = np.nan\n",
    "        df.loc[i, 'trip1'] =  np.nan\n",
    "        df.loc[i, 'trip2'] =  np.nan\n",
    "        df.loc[i, 'trip3'] =  np.nan\n",
    "        df.loc[i, 'route1'] =  np.nan\n",
    "        df.loc[i, 'route2'] =  np.nan\n",
    "        df.loc[i, 'route3'] =  np.nan\n",
    "        df.loc[i, 'bus_capacity_upto_2hours'] = np.nan\n",
    "\n",
    "    \n",
    "    "
   ]
  },
  {
   "cell_type": "code",
   "execution_count": 24,
   "metadata": {},
   "outputs": [],
   "source": [
    "def traveltimeDrive(latHome, lonHome,latWork,lonWork, time)->int:\n",
    "    request= \"http://localhost:8080/otp/routers/default/plan?fromPlace=\"+str(latHome)\\\n",
    "    + \",\"+str(lonHome)+\"&toPlace=\"+str(latWork) + \",\"+str(lonWork)+ \"&\"+\"&mode=WALK,CAR&date=05-04-2021&time=\"\\\n",
    "    +time+\"&maxWalkDistance=750\"\n",
    "    r = requests.get(request)\n",
    "    data=r.json()\n",
    "    # print(data['plan'])\n",
    "    if 'plan' in data.keys() and 'itineraries' in data['plan'].keys():\n",
    "        return int(data['plan']['itineraries'][0]['duration'])\n",
    "    else:\n",
    "        return np.nan"
   ]
  },
  {
   "cell_type": "code",
   "execution_count": 25,
   "metadata": {},
   "outputs": [],
   "source": [
    "def traveltimeWalk(latHome, lonHome,latWork,lonWork, time)->int:\n",
    "    walk_distance = 50000\n",
    "    request= \"http://localhost:8080/otp/routers/default/plan?fromPlace=\"+str(latHome)\\\n",
    "    + \",\"+str(lonHome)+\"&toPlace=\"+str(latWork) + \",\"+str(lonWork)+ \"&\"+\"&mode=WALK&date=05-04-2021&time=\"\\\n",
    "    +time+\"&maxWalkDistance=\"+str(walk_distance)\n",
    "    r = requests.get(request)\n",
    "    data=r.json()\n",
    "    # print(data['plan'])\n",
    "    if 'plan' in data.keys() and 'itineraries' in data['plan'].keys():\n",
    "        return int(data['plan']['itineraries'][0]['duration'])\n",
    "    else:\n",
    "        return np.nan"
   ]
  },
  {
   "cell_type": "code",
   "execution_count": 26,
   "id": "0423c994",
   "metadata": {},
   "outputs": [],
   "source": [
    "def get_stop_url(geom):\n",
    "    # print(df)\n",
    "    # geom = df.geometry\n",
    "    initial='http://127.0.0.1:5000/nearest/v1/driving/'\n",
    "    end='?number=1'\n",
    "    point = str(geom.x)+\",\"+str(geom.y)\n",
    "    requests2 = []\n",
    "    requests2.append(initial+point+end)\n",
    "    return requests2\n",
    "    "
   ]
  },
  {
   "cell_type": "code",
   "execution_count": 27,
   "id": "2d78c6b3",
   "metadata": {},
   "outputs": [],
   "source": [
    "import time\n",
    "def nearby_points(reqs):\n",
    "    url=reqs[0]\n",
    "    #to remove any connection timeouts and port usage exceptions\n",
    "    # r=None\n",
    "    # l=None\n",
    "    try:\n",
    "        r=requests.get(url)\n",
    "        data=r.json()\n",
    "        l=Point(data['waypoints'][0]['location'])\n",
    "        return l\n",
    "    except:\n",
    "        time.sleep(60)\n",
    "        \n",
    "    # return l"
   ]
  },
  {
   "cell_type": "markdown",
   "metadata": {},
   "source": [
    "## input: lodes od data"
   ]
  },
  {
   "cell_type": "code",
   "execution_count": 28,
   "metadata": {},
   "outputs": [],
   "source": [
    "# od_lodes = pd.read_parquet('data/lodes_od_based_on_job.parquet')\n",
    "od_lodes = pd.read_parquet('./lodes_combs_chatta.parquet')"
   ]
  },
  {
   "cell_type": "code",
   "execution_count": 29,
   "metadata": {},
   "outputs": [
    {
     "data": {
      "text/html": [
       "<div>\n",
       "<style scoped>\n",
       "    .dataframe tbody tr th:only-of-type {\n",
       "        vertical-align: middle;\n",
       "    }\n",
       "\n",
       "    .dataframe tbody tr th {\n",
       "        vertical-align: top;\n",
       "    }\n",
       "\n",
       "    .dataframe thead th {\n",
       "        text-align: right;\n",
       "    }\n",
       "</style>\n",
       "<table border=\"1\" class=\"dataframe\">\n",
       "  <thead>\n",
       "    <tr style=\"text-align: right;\">\n",
       "      <th></th>\n",
       "      <th>h_geocode</th>\n",
       "      <th>w_geocode</th>\n",
       "      <th>total_jobs</th>\n",
       "      <th>home_loc_lat</th>\n",
       "      <th>home_loc_lon</th>\n",
       "      <th>work_loc_lat</th>\n",
       "      <th>work_loc_lon</th>\n",
       "      <th>go_time</th>\n",
       "      <th>go_time_str</th>\n",
       "      <th>return_time</th>\n",
       "      <th>return_time_str</th>\n",
       "    </tr>\n",
       "  </thead>\n",
       "  <tbody>\n",
       "    <tr>\n",
       "      <th>0</th>\n",
       "      <td>470650113214</td>\n",
       "      <td>470650004001</td>\n",
       "      <td>133.0</td>\n",
       "      <td>35.035038</td>\n",
       "      <td>-85.143375</td>\n",
       "      <td>35.044494</td>\n",
       "      <td>-85.270026</td>\n",
       "      <td>1900-01-01 07:25:30</td>\n",
       "      <td>07:25:30</td>\n",
       "      <td>1900-01-01 17:48:45</td>\n",
       "      <td>17:48:45</td>\n",
       "    </tr>\n",
       "    <tr>\n",
       "      <th>1</th>\n",
       "      <td>470650113214</td>\n",
       "      <td>470650004001</td>\n",
       "      <td>133.0</td>\n",
       "      <td>35.031954</td>\n",
       "      <td>-85.139541</td>\n",
       "      <td>35.039947</td>\n",
       "      <td>-85.268589</td>\n",
       "      <td>1900-01-01 08:27:00</td>\n",
       "      <td>08:27:00</td>\n",
       "      <td>1900-01-01 17:07:30</td>\n",
       "      <td>17:07:30</td>\n",
       "    </tr>\n",
       "    <tr>\n",
       "      <th>2</th>\n",
       "      <td>470650113214</td>\n",
       "      <td>470650004001</td>\n",
       "      <td>133.0</td>\n",
       "      <td>35.024332</td>\n",
       "      <td>-85.141216</td>\n",
       "      <td>35.039947</td>\n",
       "      <td>-85.268589</td>\n",
       "      <td>1900-01-01 07:26:30</td>\n",
       "      <td>07:26:30</td>\n",
       "      <td>1900-01-01 16:17:45</td>\n",
       "      <td>16:17:45</td>\n",
       "    </tr>\n",
       "    <tr>\n",
       "      <th>3</th>\n",
       "      <td>470650113214</td>\n",
       "      <td>470650004001</td>\n",
       "      <td>133.0</td>\n",
       "      <td>35.030575</td>\n",
       "      <td>-85.154980</td>\n",
       "      <td>35.040336</td>\n",
       "      <td>-85.269585</td>\n",
       "      <td>1900-01-01 07:47:00</td>\n",
       "      <td>07:47:00</td>\n",
       "      <td>1900-01-01 16:05:00</td>\n",
       "      <td>16:05:00</td>\n",
       "    </tr>\n",
       "    <tr>\n",
       "      <th>4</th>\n",
       "      <td>470650113214</td>\n",
       "      <td>470650004001</td>\n",
       "      <td>133.0</td>\n",
       "      <td>35.022464</td>\n",
       "      <td>-85.143388</td>\n",
       "      <td>35.040336</td>\n",
       "      <td>-85.269585</td>\n",
       "      <td>1900-01-01 07:25:30</td>\n",
       "      <td>07:25:30</td>\n",
       "      <td>1900-01-01 16:30:15</td>\n",
       "      <td>16:30:15</td>\n",
       "    </tr>\n",
       "  </tbody>\n",
       "</table>\n",
       "</div>"
      ],
      "text/plain": [
       "      h_geocode     w_geocode  total_jobs  home_loc_lat  home_loc_lon  \\\n",
       "0  470650113214  470650004001       133.0     35.035038    -85.143375   \n",
       "1  470650113214  470650004001       133.0     35.031954    -85.139541   \n",
       "2  470650113214  470650004001       133.0     35.024332    -85.141216   \n",
       "3  470650113214  470650004001       133.0     35.030575    -85.154980   \n",
       "4  470650113214  470650004001       133.0     35.022464    -85.143388   \n",
       "\n",
       "   work_loc_lat  work_loc_lon             go_time go_time_str  \\\n",
       "0     35.044494    -85.270026 1900-01-01 07:25:30    07:25:30   \n",
       "1     35.039947    -85.268589 1900-01-01 08:27:00    08:27:00   \n",
       "2     35.039947    -85.268589 1900-01-01 07:26:30    07:26:30   \n",
       "3     35.040336    -85.269585 1900-01-01 07:47:00    07:47:00   \n",
       "4     35.040336    -85.269585 1900-01-01 07:25:30    07:25:30   \n",
       "\n",
       "          return_time return_time_str  \n",
       "0 1900-01-01 17:48:45        17:48:45  \n",
       "1 1900-01-01 17:07:30        17:07:30  \n",
       "2 1900-01-01 16:17:45        16:17:45  \n",
       "3 1900-01-01 16:05:00        16:05:00  \n",
       "4 1900-01-01 16:30:15        16:30:15  "
      ]
     },
     "execution_count": 29,
     "metadata": {},
     "output_type": "execute_result"
    }
   ],
   "source": [
    "od_lodes.head()"
   ]
  },
  {
   "cell_type": "code",
   "execution_count": 30,
   "metadata": {},
   "outputs": [
    {
     "data": {
      "application/vnd.jupyter.widget-view+json": {
       "model_id": "2c82cd580e624c48bfd804632ea89e93",
       "version_major": 2,
       "version_minor": 0
      },
      "text/plain": [
       "  0%|          | 0/31527 [00:00<?, ?it/s]"
      ]
     },
     "metadata": {},
     "output_type": "display_data"
    }
   ],
   "source": [
    "from tqdm.notebook import tqdm_notebook\n",
    "\n",
    "for i, val in tqdm_notebook(od_lodes.iterrows(), total=od_lodes.shape[0]):\n",
    "    traveltimeTransit2(od_lodes, i, od_lodes.iloc[i].home_loc_lat, od_lodes.iloc[i].home_loc_lon, od_lodes.iloc[i].work_loc_lat, od_lodes.iloc[i].work_loc_lon, od_lodes.iloc[i].go_time_str+'am')\n",
    "    od_lodes.loc[i, 'drive_time_fn'] = traveltimeDrive(od_lodes.iloc[i].home_loc_lat, od_lodes.iloc[i].home_loc_lon, od_lodes.iloc[i].work_loc_lat, od_lodes.iloc[i].work_loc_lon, od_lodes.iloc[i].go_time_str+'am')\n",
    "    od_lodes.loc[i, 'walk_time_fn'] = traveltimeWalk(od_lodes.iloc[i].home_loc_lat, od_lodes.iloc[i].home_loc_lon, od_lodes.iloc[i].work_loc_lat, od_lodes.iloc[i].work_loc_lon, od_lodes.iloc[i].go_time_str+'am' )\n",
    "    od_lodes.loc[i, 'transit_score'] = np.divide(od_lodes.loc[i, 'drive_time_fn'], od_lodes.loc[i, 'transit_time'])"
   ]
  },
  {
   "cell_type": "code",
   "execution_count": 31,
   "metadata": {},
   "outputs": [],
   "source": [
    "od_lodes.to_csv('lodes_od_chatta_10k.csv', index=False)\n",
    "# [hw_tracts_geom['TRACTCE20_home'] == hw_tracts_geom['TRACTCE20_work']].transit_score.dropna()"
   ]
  },
  {
   "cell_type": "code",
   "execution_count": 33,
   "metadata": {},
   "outputs": [],
   "source": [
    "ham_within_chatta = pd.read_csv('ham_within_chatta.csv')\n",
    "ham_within_chatta.GEOID = ham_within_chatta.GEOID.astype(str)\n",
    "ham_within_chatta['name'] = ham_within_chatta.GEOID.apply(lambda x: 'Block Group '+str(x[-1]) +', Census Tract '+str(x[6:9]).lstrip('0')+'.'+str(x[9:-1])+', Hamilton County, Tennessee' if str(x[9:-1]) != '00' else 'Block Group '+str(x[-1]) +', Census Tract '+str(x[6:9]).lstrip('0')+', Hamilton County, Tennessee')"
   ]
  },
  {
   "cell_type": "code",
   "execution_count": 36,
   "metadata": {},
   "outputs": [],
   "source": [
    "od_lodes.merge(ham_within_chatta[['GEOID', 'geometry']], left_on='h_geocode', right_on='GEOID').to_csv('lodes_od_chatta_10k_ts_2021_10_gtfs.csv', index=False)\n",
    "od_lodes.groupby('h_geocode').mean().reset_index().merge(ham_within_chatta[['GEOID', 'geometry']], left_on='h_geocode', right_on='GEOID').to_csv('chatta_ts_mean_2021_10k.csv', index=False)"
   ]
  }
 ],
 "metadata": {
  "kernelspec": {
   "display_name": "Python 3",
   "language": "python",
   "name": "python3"
  },
  "language_info": {
   "name": "python",
   "version": "3.10.6"
  },
  "orig_nbformat": 4,
  "vscode": {
   "interpreter": {
    "hash": "e7370f93d1d0cde622a1f8e1c04877d8463912d04d973331ad4851f04de6915a"
   }
  }
 },
 "nbformat": 4,
 "nbformat_minor": 2
}
